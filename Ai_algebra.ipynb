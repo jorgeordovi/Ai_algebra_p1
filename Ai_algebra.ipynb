{
 "cells": [
  {
   "cell_type": "code",
   "execution_count": 1,
   "metadata": {},
   "outputs": [],
   "source": [
    "import numpy as np "
   ]
  },
  {
   "cell_type": "code",
   "execution_count": 2,
   "metadata": {},
   "outputs": [],
   "source": [
    "def suma_matrices(A,B):\n",
    "    \n",
    "    filas= len(A)\n",
    "    columnas=len(A[0])\n",
    "    C=[[0 for _ in range(columnas)] for _ in range(filas)]\n",
    "    \n",
    "    for i in range(filas):\n",
    "        for j in range(columnas):\n",
    "            C[i][j] = A[i][j] + B[i][j]\n",
    "        \n",
    "    return C\n",
    "\n",
    "def resta_matrices(A,B):\n",
    "    filas= len(A)\n",
    "    columnas=len(A[0])\n",
    "    C=[[0 for _ in range(columnas)] for _ in range(filas)]\n",
    "    \n",
    "    for i in range(filas):\n",
    "        for j in range(columnas):\n",
    "            C[i][j] = A[i][j] - B[i][j]\n",
    "    return C\n",
    "\n",
    "def multiplicacion_matrices(A,B):\n",
    "    \n",
    "    filas_A=len(A)\n",
    "    columnas_A=len(A[0])\n",
    "    filas_B=len(B)\n",
    "    columnas_B=len(B[0])\n",
    "    \n",
    "    if columnas_A != filas_B:\n",
    "        raise ValueError(\"Incorrecto, incompatible\")\n",
    "\n",
    "    C=[[0 for _ in range(columnas_B)] for _ in range(filas_A)]\n",
    "    \n",
    "    for i in range(filas_A):\n",
    "        for j in range(columnas_B):\n",
    "            for k in range(columnas_A):\n",
    "                C[i][j] += A[i][k]*B[k][j]\n",
    "    return C\n",
    "            \n",
    "            "
   ]
  },
  {
   "cell_type": "code",
   "execution_count": 3,
   "metadata": {},
   "outputs": [
    {
     "name": "stdout",
     "output_type": "stream",
     "text": [
      "[[10, 10, 10], [10, 10, 10], [10, 10, 10]]\n",
      "[[-8, -6, -4], [-2, 0, 2], [4, 6, 8]]\n",
      "[[22, 28], [49, 64], [76, 100]]\n"
     ]
    }
   ],
   "source": [
    "A= [ [1,2,3],[4,5,6],[7,8,9]]\n",
    "B= [ [9,8,7],[6,5,4],[3,2,1]]\n",
    "C= [ [1,2],[3,4],[5,6]]\n",
    "\n",
    "print(suma_matrices(A,B))\n",
    "print(resta_matrices(A,B))\n",
    "print(multiplicacion_matrices(A,C))"
   ]
  },
  {
   "cell_type": "code",
   "execution_count": 4,
   "metadata": {},
   "outputs": [
    {
     "name": "stdout",
     "output_type": "stream",
     "text": [
      "[[30, 24, 18], [84, 69, 54], [138, 114, 90]]\n"
     ]
    }
   ],
   "source": [
    "print(multiplicacion_matrices(A,B))"
   ]
  },
  {
   "cell_type": "code",
   "execution_count": 5,
   "metadata": {},
   "outputs": [],
   "source": [
    "import numpy as np\n",
    "\n",
    "def determinante_matriz(A):\n",
    "\n",
    "    return np.linalg.det(A)"
   ]
  },
  {
   "cell_type": "code",
   "execution_count": 6,
   "metadata": {},
   "outputs": [],
   "source": [
    "def inversa_matriz(A):\n",
    "    return np.linalg.inv(A)"
   ]
  },
  {
   "cell_type": "code",
   "execution_count": 7,
   "metadata": {},
   "outputs": [
    {
     "name": "stdout",
     "output_type": "stream",
     "text": [
      "6.66133814775094e-16\n"
     ]
    }
   ],
   "source": [
    "print(determinante_matriz(A))"
   ]
  },
  {
   "cell_type": "code",
   "execution_count": 8,
   "metadata": {},
   "outputs": [
    {
     "name": "stdout",
     "output_type": "stream",
     "text": [
      "6.66133814775094e-16\n"
     ]
    }
   ],
   "source": [
    "print(determinante_matriz(B))"
   ]
  },
  {
   "cell_type": "code",
   "execution_count": null,
   "metadata": {},
   "outputs": [],
   "source": []
  }
 ],
 "metadata": {
  "kernelspec": {
   "display_name": "Python 3 (ipykernel)",
   "language": "python",
   "name": "python3"
  },
  "language_info": {
   "codemirror_mode": {
    "name": "ipython",
    "version": 3
   },
   "file_extension": ".py",
   "mimetype": "text/x-python",
   "name": "python",
   "nbconvert_exporter": "python",
   "pygments_lexer": "ipython3",
   "version": "3.10.9"
  }
 },
 "nbformat": 4,
 "nbformat_minor": 2
}
